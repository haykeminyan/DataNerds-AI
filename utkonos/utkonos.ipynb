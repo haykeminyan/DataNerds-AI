{
 "cells": [
  {
   "cell_type": "code",
   "execution_count": 47,
   "metadata": {},
   "outputs": [
    {
     "data": {
      "text/plain": [
       "[]"
      ]
     },
     "execution_count": 47,
     "metadata": {},
     "output_type": "execute_result"
    }
   ],
   "source": [
    "import pymongo\n",
    "from pymongo import MongoClient\n",
    "import pandas as pd\n",
    "import numpy as np\n",
    "import dateutil.parser\n",
    "import datetime\n",
    "pd.set_option(\"display.width\", 3000)\n",
    "pd.set_option(\"max_colwidth\", -1)\n",
    "\n",
    "client=MongoClient('localhost',27017)\n",
    "db = client.shop_prices\n",
    "final_utkonos=db.final_utkonos\n",
    "\n",
    "dictionary={}\n",
    "data = list(db.final_utkonos.find({},{'_id':0}))\n",
    "dates=[]\n",
    "\n",
    "\n",
    "categories=[]\n",
    "\n",
    "goods =[] \n",
    "href=[]\n",
    "\n",
    "for i in data:    \n",
    "    categories.append(i['category_name'])\n",
    "    href.append(i['link'])\n",
    "    dates.append(list(i.keys())[2:])\n",
    "    goods.append(list(i.values())[2:])\n",
    "dates_good=[]\n",
    "goods_good=[]\n",
    "for i in dates:\n",
    "    for j in i:\n",
    "        dates_good.append(j)\n",
    "for i in goods:\n",
    "    for j in i:\n",
    "        goods_good.append(j)\n",
    "final=[categories,href,dates_good,goods_good]\n",
    "df=pd.DataFrame(final)\n",
    "df.T.columns=['Название','Ссылка','Дата','Товары']\n",
    "df.T.index+=1\n",
    "df.T"
   ]
  },
  {
   "cell_type": "code",
   "execution_count": null,
   "metadata": {},
   "outputs": [],
   "source": []
  }
 ],
 "metadata": {
  "kernelspec": {
   "display_name": "'Python Interactive'",
   "language": "python",
   "name": "143d7340-08fb-45f5-ac7d-3c3365193801"
  },
  "language_info": {
   "codemirror_mode": {
    "name": "ipython",
    "version": 3
   },
   "file_extension": ".py",
   "mimetype": "text/x-python",
   "name": "python",
   "nbconvert_exporter": "python",
   "pygments_lexer": "ipython3",
   "version": "3.7.5"
  }
 },
 "nbformat": 4,
 "nbformat_minor": 2
}
