{
 "cells": [
  {
   "cell_type": "code",
   "execution_count": 4,
   "metadata": {},
   "outputs": [
    {
     "data": {
      "text/html": [
       "<div>\n",
       "<style scoped>\n",
       "    .dataframe tbody tr th:only-of-type {\n",
       "        vertical-align: middle;\n",
       "    }\n",
       "\n",
       "    .dataframe tbody tr th {\n",
       "        vertical-align: top;\n",
       "    }\n",
       "\n",
       "    .dataframe thead th {\n",
       "        text-align: right;\n",
       "    }\n",
       "</style>\n",
       "<table border=\"1\" class=\"dataframe\">\n",
       "  <thead>\n",
       "    <tr style=\"text-align: right;\">\n",
       "      <th></th>\n",
       "      <th>Categories</th>\n",
       "      <th>Links</th>\n",
       "    </tr>\n",
       "  </thead>\n",
       "  <tbody>\n",
       "  </tbody>\n",
       "</table>\n",
       "</div>"
      ],
      "text/plain": [
       "Empty DataFrame\n",
       "Columns: [Categories, Links]\n",
       "Index: []"
      ]
     },
     "execution_count": 4,
     "metadata": {},
     "output_type": "execute_result"
    }
   ],
   "source": [
    "import pymongo\n",
    "from pymongo import MongoClient\n",
    "import pandas as pd\n",
    "import numpy as np\n",
    "import dateutil.parser\n",
    "import datetime\n",
    "pd.set_option(\"display.width\", 3000)\n",
    "pd.set_option(\"max_colwidth\", -1)\n",
    "\n",
    "client=MongoClient('localhost',27017)\n",
    "db = client.shop_vkus_vill\n",
    "final_vkus_vill=db.final_vkus_vill\n",
    "dictionary={}\n",
    "\n",
    "data = db.final_vkus_vill.find({},{'_id':0})\n",
    "\n",
    "\n",
    "\n",
    "\n",
    "for i in list(data):\n",
    "    dictionary = {**dictionary, **i}\n",
    "# print(dictionary)\n",
    "final={}\n",
    "\n",
    "links = []\n",
    "goods = {}\n",
    "dates =[]\n",
    "\n",
    "for dict_i in dictionary.values():\n",
    "    dates = (list(dict_i.keys())[1:])\n",
    "    links.append(dict_i[\"link\"])\n",
    "\n",
    "for date in dates:\n",
    "    final[date] = []\n",
    "    for dict_i in dictionary.values():\n",
    "        final[date].append(dict_i[date])\n",
    "     \n",
    "    \n",
    "final[\"Categories\"]=list(dictionary.keys())\n",
    "final[\"Links\"]= list(links)\n",
    "\n",
    "df = pd.DataFrame.from_dict(final)\n",
    "df.index+=1\n",
    "df"
   ]
  },
  {
   "cell_type": "code",
   "execution_count": null,
   "metadata": {},
   "outputs": [],
   "source": []
  }
 ],
 "metadata": {
  "kernelspec": {
   "display_name": "Python 3",
   "language": "python",
   "name": "python3"
  },
  "language_info": {
   "codemirror_mode": {
    "name": "ipython",
    "version": 3
   },
   "file_extension": ".py",
   "mimetype": "text/x-python",
   "name": "python",
   "nbconvert_exporter": "python",
   "pygments_lexer": "ipython3",
   "version": "3.7.5"
  }
 },
 "nbformat": 4,
 "nbformat_minor": 2
}
