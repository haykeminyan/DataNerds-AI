{
 "cells": [
  {
   "cell_type": "code",
   "execution_count": null,
   "metadata": {},
   "outputs": [],
   "source": [
    "\n",
    "import pandas as pd\n",
    "import matplotlib.pyplot as plt\n",
    "import numpy as np\n",
    "import pylab as pl\n",
    "import os\n",
    "import matplotlib\n",
    "from mpl_toolkits.axes_grid1.inset_locator import zoomed_inset_axes\n",
    "pd.set_option(\"display.width\", 3000)\n",
    "pd.set_option(\"max_colwidth\", -1)\n",
    "matplotlib.rcParams.update({'font.size': 10})\n",
    "directory=os.path.abspath(os.getcwd())\n",
    "file=pd.read_csv('resul_cheat.csv')\n",
    "# file.drop(\"Unnamed: 0\",axis=1,inplace=True) \n",
    "file.index = np.arange(1, len(file)+1)\n",
    "Open=file['Open']\n",
    "a=[]\n",
    "for i in Open:\n",
    "    a.append(float(i.replace(',','')))\n",
    "a=a[::-1]\n",
    "a\n",
    "file\n",
    "High=file['High']\n",
    "b=[]\n",
    "for i in High:\n",
    "    b.append(float(i.replace(',','')))\n",
    "b=b[::-1]\n",
    "Low=file['Low']\n",
    "c=[]\n",
    "for i in Low:\n",
    "    c.append(float(i.replace(',','')))\n",
    "c=c[::-1]\n",
    "Close=file['Close']\n",
    "d=[]\n",
    "for i in Close:\n",
    "    d.append(float(i.replace(',','')))\n",
    "d=d[::-1]\n",
    "df=pd.DataFrame([a,b,c,d],index=['Open','High','Low','Close'],columns=file['Date'].index)\n",
    "df\n",
    "date=[]\n",
    "date.append(file['Date'].index)\n",
    "date\n",
    "for i in date:\n",
    "    figure=df[i].mean()\n",
    "\n",
    "pl.figure(figsize=(220, 220))\n",
    "# fig, ax = plt.subplots()\n",
    "# ax.tick_params(axis='both', which='major', labelsize=10)\n",
    "# ax.tick_params(axis='both', which='minor', labelsize=8)\n",
    "# figure = zoomed_inset_axes(ax, 2.5, loc=2)\n",
    "q=plt.plot(figure)\n",
    "\n",
    "q=plt.savefig(directory+'/for_father_3')\n"
   ]
  },
  {
   "cell_type": "code",
   "execution_count": null,
   "metadata": {},
   "outputs": [],
   "source": []
  }
 ],
 "metadata": {
  "kernelspec": {
   "display_name": "Python 3",
   "language": "python",
   "name": "python3"
  },
  "language_info": {
   "codemirror_mode": {
    "name": "ipython",
    "version": 3
   },
   "file_extension": ".py",
   "mimetype": "text/x-python",
   "name": "python",
   "nbconvert_exporter": "python",
   "pygments_lexer": "ipython3",
   "version": "3.7.5"
  }
 },
 "nbformat": 4,
 "nbformat_minor": 2
}
