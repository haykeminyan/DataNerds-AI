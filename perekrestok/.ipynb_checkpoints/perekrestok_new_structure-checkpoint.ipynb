{
 "cells": [
  {
   "cell_type": "code",
   "execution_count": 4,
   "metadata": {
    "scrolled": false
   },
   "outputs": [
    {
     "name": "stdout",
     "output_type": "stream",
     "text": [
      "<pymongo.cursor.Cursor object at 0x7fea0c617450>\n",
      "{}\n",
      "[]\n"
     ]
    },
    {
     "data": {
      "text/html": [
       "<div>\n",
       "<style scoped>\n",
       "    .dataframe tbody tr th:only-of-type {\n",
       "        vertical-align: middle;\n",
       "    }\n",
       "\n",
       "    .dataframe tbody tr th {\n",
       "        vertical-align: top;\n",
       "    }\n",
       "\n",
       "    .dataframe thead th {\n",
       "        text-align: right;\n",
       "    }\n",
       "</style>\n",
       "<table border=\"1\" class=\"dataframe\">\n",
       "  <thead>\n",
       "    <tr style=\"text-align: right;\">\n",
       "      <th></th>\n",
       "      <th>Категории</th>\n",
       "      <th>Подкатегории</th>\n",
       "      <th>Продукты</th>\n",
       "      <th>Ссылки</th>\n",
       "    </tr>\n",
       "  </thead>\n",
       "  <tbody>\n",
       "  </tbody>\n",
       "</table>\n",
       "</div>"
      ],
      "text/plain": [
       "Empty DataFrame\n",
       "Columns: [Категории, Подкатегории, Продукты, Ссылки]\n",
       "Index: []"
      ]
     },
     "execution_count": 4,
     "metadata": {},
     "output_type": "execute_result"
    }
   ],
   "source": [
    "import pymongo\n",
    "from pymongo import MongoClient\n",
    "import pandas as pd\n",
    "import numpy as np\n",
    "import dateutil.parser\n",
    "import datetime\n",
    "pd.set_option(\"display.width\", 3000)\n",
    "pd.set_option(\"max_colwidth\", -1)\n",
    "\n",
    "client=MongoClient('localhost',27017)\n",
    "db=client.test\n",
    "final_perekrestok=db.final\n",
    "\n",
    "dictionary={}\n",
    "data = db.final_perekrestok.find({},{'_id':0})\n",
    "# print(data)\n",
    "\n",
    "\n",
    "for i in list(data):\n",
    "    dictionary = {**dictionary, **i}\n",
    "print(dictionary)\n",
    "\n",
    "links = []\n",
    "goods_bad =[] \n",
    "dates =[]\n",
    "\n",
    "for dict_i in dictionary.values():\n",
    "    for dict_j in dict_i.values():\n",
    "        for dict_z in dict_j.values():\n",
    "            goods_bad.append(dict_z)\n",
    "array=[]\n",
    "for i in goods_bad:\n",
    "    array.append(i)\n",
    "for i in array:\n",
    "    if type(i)==str:\n",
    "        links.append(i)\n",
    "# print(links)\n",
    "goods=[]\n",
    "for i in array:\n",
    "    if type(i)==dict:\n",
    "       goods.append(i)\n",
    "print(goods)\n",
    "category=[]\n",
    "for i in dictionary.keys():\n",
    "    category.append(i)\n",
    "# print(categories)\n",
    "subcategory=[]\n",
    "for i in dictionary.values():\n",
    "    for j in i.keys():\n",
    "        subcategory.append(j)\n",
    "# print(subcategory)\n",
    "#         for dict_z in dict_j.values():\n",
    "#               print(dict_z)\n",
    "#             dates = (list(dict_z.keys())[1:])\n",
    "#             print(dates)\n",
    "#         links.append(dict_j[\"link\"])\n",
    "# print(dates)\n",
    "# print(links)\n",
    "\n",
    "# final={}\n",
    "# for date in dates:\n",
    "#     final[date] = []\n",
    "#     for dict_j in dictionary.values():\n",
    "#         for dict_i in dict_j.values():\n",
    "#             final[date].append(dict_i[date])\n",
    "# # print(final) \n",
    "# subcategory=[]\n",
    "# for i in dictionary.values():\n",
    "#     for j in i.keys():\n",
    "#       subcategory.append(j) \n",
    "final={}  \n",
    "\n",
    "\n",
    "final=[category,subcategory,goods,links]\n",
    "\n",
    "df = pd.DataFrame.from_dict(final)\n",
    "# df.index = np.arange(1, len(df) + 1)\n",
    "df.index=['Категории','Подкатегории','Продукты','Ссылки']\n",
    "# list(df.index['category','dsadas','ds','s'])\n",
    "df.T"
   ]
  },
  {
   "cell_type": "code",
   "execution_count": null,
   "metadata": {},
   "outputs": [],
   "source": []
  }
 ],
 "metadata": {
  "kernelspec": {
   "display_name": "Python 3",
   "language": "python",
   "name": "python3"
  },
  "language_info": {
   "codemirror_mode": {
    "name": "ipython",
    "version": 3
   },
   "file_extension": ".py",
   "mimetype": "text/x-python",
   "name": "python",
   "nbconvert_exporter": "python",
   "pygments_lexer": "ipython3",
   "version": "3.7.5"
  }
 },
 "nbformat": 4,
 "nbformat_minor": 2
}
