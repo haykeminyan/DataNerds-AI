{
 "cells": [
  {
   "cell_type": "code",
   "execution_count": 48,
   "metadata": {},
   "outputs": [
    {
     "ename": "NameError",
     "evalue": "name 'date' is not defined",
     "output_type": "error",
     "traceback": [
      "\u001b[0;31m---------------------------------------------------------------------------\u001b[0m",
      "\u001b[0;31mNameError\u001b[0m                                 Traceback (most recent call last)",
      "\u001b[0;32m<ipython-input-48-0555ff9e8398>\u001b[0m in \u001b[0;36m<module>\u001b[0;34m\u001b[0m\n\u001b[1;32m     26\u001b[0m     \u001b[0mcategory\u001b[0m\u001b[0;34m.\u001b[0m\u001b[0mappend\u001b[0m\u001b[0;34m(\u001b[0m\u001b[0mi\u001b[0m\u001b[0;34m[\u001b[0m\u001b[0;34m'category_name'\u001b[0m\u001b[0;34m]\u001b[0m\u001b[0;34m)\u001b[0m\u001b[0;34m\u001b[0m\u001b[0;34m\u001b[0m\u001b[0m\n\u001b[1;32m     27\u001b[0m     \u001b[0mhref\u001b[0m\u001b[0;34m.\u001b[0m\u001b[0mappend\u001b[0m\u001b[0;34m(\u001b[0m\u001b[0mi\u001b[0m\u001b[0;34m[\u001b[0m\u001b[0;34m'link'\u001b[0m\u001b[0;34m]\u001b[0m\u001b[0;34m)\u001b[0m\u001b[0;34m\u001b[0m\u001b[0;34m\u001b[0m\u001b[0m\n\u001b[0;32m---> 28\u001b[0;31m     \u001b[0mdates\u001b[0m\u001b[0;34m.\u001b[0m\u001b[0mappend\u001b[0m\u001b[0;34m(\u001b[0m\u001b[0mi\u001b[0m\u001b[0;34m[\u001b[0m\u001b[0mdate\u001b[0m\u001b[0;34m]\u001b[0m\u001b[0;34m)\u001b[0m\u001b[0;34m\u001b[0m\u001b[0;34m\u001b[0m\u001b[0m\n\u001b[0m\u001b[1;32m     29\u001b[0m \u001b[0mdates\u001b[0m\u001b[0;34m\u001b[0m\u001b[0;34m\u001b[0m\u001b[0m\n\u001b[1;32m     30\u001b[0m \u001b[0;34m\u001b[0m\u001b[0m\n",
      "\u001b[0;31mNameError\u001b[0m: name 'date' is not defined"
     ]
    }
   ],
   "source": [
    "import pymongo\n",
    "from pymongo import MongoClient\n",
    "import pandas as pd\n",
    "import numpy as np\n",
    "import dateutil.parser\n",
    "import datetime\n",
    "pd.set_option(\"display.width\", 3000)\n",
    "pd.set_option(\"max_colwidth\", -1)\n",
    "\n",
    "client=MongoClient('localhost',27017)\n",
    "db = client.shop_prices\n",
    "final_metro=db.final_metro\n",
    "\n",
    "dictionary={}\n",
    "data = db.final_metro.find({},{'_id':0})\n",
    "dates=[]\n",
    "\n",
    "date=datetime.datetime.now().strftime(\"%d-%m-%Y\")\n",
    "\n",
    "# print(list(data))\n",
    "goods =[] \n",
    "href=[]\n",
    "\n",
    "category=[]\n",
    "for i in list(data):\n",
    "    category.append(i['category_name'])\n",
    "    href.append(i['link'])\n",
    "    dates.append(i[date])\n",
    "dates\n",
    "\n",
    "\n",
    "\n",
    "\n",
    "# links_and_dates=[]\n",
    "# for i in dictionary.values():\n",
    "#     for j in i.values():\n",
    "#         for k in j.keys():\n",
    "#             links_and_dates.append(k)\n",
    "# links=[]\n",
    "# for i in  links_and_dates:\n",
    "#     if i=='link':\n",
    "#         links.append(i)\n",
    "#     else:\n",
    "#         dates.append(i)\n",
    "        \n",
    "\n",
    "# for i in dictionary.values():\n",
    "#     for j in i.values():\n",
    "#         for j in j.values():\n",
    "#             if type(j)==dict:\n",
    "#                 goods.append(j)\n",
    "#             else:\n",
    "#                 href.append(j)\n",
    "\n",
    "# goods_final=[]\n",
    "# for i,j in zip(dates,goods):\n",
    "#     goods_final.append(str(j))\n",
    "\n",
    "# final={}\n",
    "\n",
    "\n",
    "\n",
    "# final=[subcategory,goods_final,href]\n",
    "\n",
    "# df = pd.DataFrame.from_dict(final)\n",
    "# df.index=['Категории','Товары на '+dates[0],'Ссылки']\n",
    "# df.columns+=1\n",
    "# df.T"
   ]
  },
  {
   "cell_type": "code",
   "execution_count": null,
   "metadata": {},
   "outputs": [],
   "source": []
  }
 ],
 "metadata": {
  "kernelspec": {
   "display_name": "Python 3",
   "language": "python",
   "name": "python3"
  },
  "language_info": {
   "codemirror_mode": {
    "name": "ipython",
    "version": 3
   },
   "file_extension": ".py",
   "mimetype": "text/x-python",
   "name": "python",
   "nbconvert_exporter": "python",
   "pygments_lexer": "ipython3",
   "version": "3.7.5"
  }
 },
 "nbformat": 4,
 "nbformat_minor": 2
}
